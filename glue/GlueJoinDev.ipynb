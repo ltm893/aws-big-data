{
 "cells": [
  {
   "cell_type": "code",
   "execution_count": 1,
   "id": "13fd1d30-b331-46da-9dd3-2221989a72a6",
   "metadata": {},
   "outputs": [
    {
     "name": "stdout",
     "output_type": "stream",
     "text": [
      "Welcome to the Glue Interactive Sessions Kernel\n",
      "For more information on available magic commands, please type %help in any new cell.\n",
      "\n",
      "Please view our Getting Started page to access the most up-to-date information on the Interactive Sessions kernel: https://docs.aws.amazon.com/glue/latest/dg/interactive-sessions.html\n",
      "Trying to create a Glue session for the kernel.\n",
      "Session Type: etl\n",
      "Worker Type: G.1X\n",
      "Number of Workers: 5\n",
      "Session ID: 01249033-6f0e-49f1-8fc7-c507a9efdfb7\n",
      "Applying the following default arguments:\n",
      "--glue_kernel_version 1.0.4\n",
      "--enable-glue-datacatalog true\n",
      "Waiting for session 01249033-6f0e-49f1-8fc7-c507a9efdfb7 to get into ready status...\n",
      "Session 01249033-6f0e-49f1-8fc7-c507a9efdfb7 has been created.\n",
      "\n"
     ]
    }
   ],
   "source": [
    "\n",
    "import sys\n",
    "from awsglue.transforms import *\n",
    "from awsglue.utils import getResolvedOptions\n",
    "from pyspark.context import SparkContext\n",
    "from awsglue.context import GlueContext\n",
    "from awsglue.job import Job\n",
    "\n",
    "glueContext = GlueContext(SparkContext.getOrCreate())\n"
   ]
  },
  {
   "cell_type": "code",
   "execution_count": 3,
   "id": "6c202ebc-c291-413c-8d1d-2a857fa3f15e",
   "metadata": {},
   "outputs": [
    {
     "name": "stdout",
     "output_type": "stream",
     "text": [
      "Count:  28580\n",
      "root\n",
      "|-- zipcode: long\n",
      "|-- group: long\n"
     ]
    }
   ],
   "source": [
    "persons = glueContext.create_dynamic_frame.from_catalog(\n",
    "             database=\"ltm893-crawler-demo-database\",\n",
    "             table_name=\"ltm893-crawler-csv\")\n",
    "print (\"Count: \", persons.count())\n",
    "persons.printSchema()"
   ]
  },
  {
   "cell_type": "code",
   "execution_count": 4,
   "id": "c27d3cba-8aed-4089-a7aa-5006aad85262",
   "metadata": {},
   "outputs": [
    {
     "name": "stdout",
     "output_type": "stream",
     "text": [
      "Count:  999999\n",
      "root\n",
      "|-- name: string\n",
      "|-- usage: string\n",
      "|-- zip: string\n"
     ]
    }
   ],
   "source": [
    "persons = glueContext.create_dynamic_frame.from_catalog(\n",
    "             database=\"ltm893-crawler-demo-database\",\n",
    "             table_name=\"ltm893-crawler-json\")\n",
    "print (\"Count: \", persons.count())\n",
    "persons.printSchema()"
   ]
  },
  {
   "cell_type": "code",
   "execution_count": 7,
   "id": "b52d4c97-8a69-4cce-8b8c-b9a37b906a14",
   "metadata": {},
   "outputs": [
    {
     "name": "stdout",
     "output_type": "stream",
     "text": [
      "Count:  28580\n",
      "root\n",
      "|-- zipcode: long\n",
      "|-- group: long\n"
     ]
    }
   ],
   "source": [
    "zip_group = glueContext.create_dynamic_frame.from_catalog(\n",
    "            database=\"ltm893-crawler-demo-database\",\n",
    "            table_name=\"ltm893-crawler-csv\")\n",
    "print (\"Count: \", zip_group.count())\n",
    "zip_group.printSchema()"
   ]
  },
  {
   "cell_type": "code",
   "execution_count": 8,
   "id": "21f24aa9-b158-43cb-801c-60f5a23cbed9",
   "metadata": {},
   "outputs": [
    {
     "name": "stdout",
     "output_type": "stream",
     "text": [
      "Count:  922976\n",
      "root\n",
      "|-- usage: string\n",
      "|-- group: long\n",
      "|-- name: string\n",
      "|-- zip: string\n"
     ]
    }
   ],
   "source": [
    "l_person_zip = Join.apply(persons,zip_group,'zip','zipcode').drop_fields(['zipcode'])\t\t\t\t   \t\t\t\t   \n",
    "print (\"Count: \", l_person_zip.count())\n",
    "l_person_zip.printSchema()"
   ]
  },
  {
   "cell_type": "code",
   "execution_count": 9,
   "id": "60dad6d9-20cf-482d-85a0-b69633eb9b20",
   "metadata": {},
   "outputs": [
    {
     "name": "stdout",
     "output_type": "stream",
     "text": [
      "<awsglue.dynamicframe.DynamicFrame object at 0x7f731a93fd30>\n"
     ]
    }
   ],
   "source": [
    "glueContext.write_dynamic_frame.from_options(frame =l_person_zip,\n",
    "          connection_type = \"s3\",\n",
    "          connection_options = {\"path\": \"s3://ltm893-gluedemo/output/people_zipgroup\"},\n",
    "          format = \"parquet\")"
   ]
  },
  {
   "cell_type": "code",
   "execution_count": 11,
   "id": "7b974b8a-7347-4a45-9f80-496a83fe0c47",
   "metadata": {
    "scrolled": true
   },
   "outputs": [
    {
     "name": "stdout",
     "output_type": "stream",
     "text": [
      "\n"
     ]
    }
   ],
   "source": [
    "person_zip = l_person_zip.toDF().repartition(1)\n",
    "person_zip.write.parquet('s3://ltm893-gluedemo/output-single/people_zipgroup')"
   ]
  },
  {
   "cell_type": "code",
   "execution_count": 12,
   "id": "d988cc00-170c-46bc-a961-df1aa374e194",
   "metadata": {},
   "outputs": [
    {
     "name": "stdout",
     "output_type": "stream",
     "text": [
      "<awsglue.dynamicframe.DynamicFrame object at 0x7f731a798e80>\n"
     ]
    }
   ],
   "source": [
    "import sys\n",
    "from datetime import date\n",
    "\n",
    "from awsglue.transforms import *\n",
    "from awsglue.utils import getResolvedOptions\n",
    "from pyspark.context import SparkContext\n",
    "from awsglue.context import GlueContext\n",
    "from awsglue.job import Job\n",
    "\n",
    "today = date.today()\n",
    "datedir= today.strftime(\"%Y%m%d\")\n",
    "datedir='20240405'\n",
    "\n",
    "glueContext = GlueContext(SparkContext.getOrCreate())\n",
    "\n",
    "\n",
    "persons = glueContext.create_dynamic_frame.from_catalog(\n",
    "             database=\"ltm893-crawler-demo-database\",\n",
    "             table_name=\"ltm893-crawler-json\")\n",
    "\n",
    "zip_group = glueContext.create_dynamic_frame.from_catalog(\n",
    "            database=\"ltm893-crawler-demo-database\",\n",
    "            table_name=\"ltm893-crawler-csv\")\n",
    "\n",
    "person_zip = Join.apply(persons,zip_group,'zip','zipcode').drop_fields(['zipcode'])\t\t\t\t   \t\t\t\t   \n",
    "\n",
    "\n",
    "glueContext.write_dynamic_frame.from_options(frame =person_zip,\n",
    "          connection_type = \"s3\",\n",
    "          connection_options = {f\"path\": \"s3://ltm893-gluedemo/${datedir}/people_zipgroup\"},\n",
    "          format = \"parquet\")\n"
   ]
  },
  {
   "cell_type": "code",
   "execution_count": 14,
   "id": "0d016df7-d88f-411f-ab6e-3f90b99790a1",
   "metadata": {},
   "outputs": [
    {
     "name": "stdout",
     "output_type": "stream",
     "text": [
      "<awsglue.dynamicframe.DynamicFrame object at 0x7f731a799030>\n"
     ]
    }
   ],
   "source": [
    "import sys\n",
    "from datetime import date\n",
    "\n",
    "\n",
    "from awsglue.transforms import *\n",
    "from awsglue.utils import getResolvedOptions\n",
    "from pyspark.context import SparkContext\n",
    "from awsglue.context import GlueContext\n",
    "from awsglue.job import Job\n",
    "\n",
    "today = date.today()\n",
    "datedir= today.strftime(\"%Y%m%d\")\n",
    "datedir='20240404'\n",
    "daily_output = \"s3://ltm893-gluedemo/output/\" + datedir + \"/people_zipgroup\"\n",
    "\n",
    "glueContext = GlueContext(SparkContext.getOrCreate())\n",
    "\n",
    "\n",
    "persons = glueContext.create_dynamic_frame.from_catalog(\n",
    "             database=\"ltm893-crawler-demo-database\",\n",
    "             table_name=\"ltm893-crawler-json\")\n",
    "\n",
    "zip_group = glueContext.create_dynamic_frame.from_catalog(\n",
    "            database=\"ltm893-crawler-demo-database\",\n",
    "            table_name=\"ltm893-crawler-csv\")\n",
    "\n",
    "person_zip = Join.apply(persons,zip_group,'zip','zipcode').drop_fields(['zipcode'])\t\t\t\t   \t\t\t\t   \n",
    "\n",
    "\n",
    "glueContext.write_dynamic_frame.from_options(frame =person_zip,\n",
    "          connection_type = \"s3\",\n",
    "          connection_options = {\"path\": daily_output },\n",
    "          format = \"parquet\")"
   ]
  },
  {
   "cell_type": "code",
   "execution_count": null,
   "id": "ef50f911-ba49-4f7c-bd67-435648238a88",
   "metadata": {},
   "outputs": [],
   "source": []
  }
 ],
 "metadata": {
  "kernelspec": {
   "display_name": "Glue PySpark",
   "language": "python",
   "name": "glue_pyspark"
  },
  "language_info": {
   "codemirror_mode": {
    "name": "python",
    "version": 3
   },
   "file_extension": ".py",
   "mimetype": "text/x-python",
   "name": "Python_Glue_Session",
   "pygments_lexer": "python3"
  }
 },
 "nbformat": 4,
 "nbformat_minor": 5
}
